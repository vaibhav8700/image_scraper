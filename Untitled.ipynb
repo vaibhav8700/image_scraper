{
 "cells": [
  {
   "cell_type": "code",
   "execution_count": 1,
   "id": "9a6ebd5c-9dc5-43c8-94d7-3b3d8190a108",
   "metadata": {},
   "outputs": [],
   "source": [
    "import requests \n",
    "import logging\n",
    "import os\n",
    "from bs4 import BeautifulSoup\n",
    "from urllib.request import urlopen\n"
   ]
  },
  {
   "cell_type": "code",
   "execution_count": 3,
   "id": "05d6be86-24c0-42bc-9afc-e4cc51db95c0",
   "metadata": {},
   "outputs": [],
   "source": [
    "save_dir =\"images/\"\n",
    "if not os.path.exists(save_dir):\n",
    "    os.makedirs(save_dir)"
   ]
  },
  {
   "cell_type": "code",
   "execution_count": 55,
   "id": "090c0b4f-72d0-42b4-a8cc-93422bc3628b",
   "metadata": {},
   "outputs": [],
   "source": [
    "query = \"sunny leone\"\n",
    "url = \"https://in.pinterest.com/search/pins/?rs=ac&len=2&q={query}&eq=shah&etslf=3572\""
   ]
  },
  {
   "cell_type": "code",
   "execution_count": 56,
   "id": "4d83a1b0-31c4-4b59-9dfd-ab77f6cbf94d",
   "metadata": {},
   "outputs": [],
   "source": [
    "response = requests.get(f\"https://www.google.com/search?sca_esv=a691801792404b30&rlz=1C5CHFA_enIN1009IN1009&sxsrf=ACQVn0-5wxKDDWCTKhsSWtXgneOKulqDlQ:1708888423963&q={query}&tbm=isch&source=lnms&sa=X&ved=2ahUKEwiXheK7mceEAxUP6jgGHRXAB9gQ0pQJegQIDRAB&biw=1164&bih=545&dpr=1.1\")"
   ]
  },
  {
   "cell_type": "code",
   "execution_count": 57,
   "id": "c20e3fbc-f50a-4333-b29c-a3bbb57293d9",
   "metadata": {},
   "outputs": [
    {
     "data": {
      "text/plain": [
       "<Response [200]>"
      ]
     },
     "execution_count": 57,
     "metadata": {},
     "output_type": "execute_result"
    }
   ],
   "source": [
    "response"
   ]
  },
  {
   "cell_type": "code",
   "execution_count": 58,
   "id": "e96e6b8f-5eea-4d6c-a76a-74c3ad07b3a3",
   "metadata": {},
   "outputs": [],
   "source": [
    "soup = BeautifulSoup(response.content,\"html.parser\")"
   ]
  },
  {
   "cell_type": "code",
   "execution_count": 59,
   "id": "760e84a0-9dd4-494a-84d0-f794e66ddd9f",
   "metadata": {},
   "outputs": [
    {
     "data": {
      "text/plain": [
       "<!DOCTYPE html PUBLIC \"-//WAPFORUM//DTD XHTML Mobile 1.0//EN\" \"http://www.wapforum.org/DTD/xhtml-mobile10.dtd\">\n",
       "<html lang=\"en-IN\" xmlns=\"http://www.w3.org/1999/xhtml\"><head><meta content=\"application/xhtml+xml; charset=utf-8\" http-equiv=\"Content-Type\"/><meta content=\"no-cache\" name=\"Cache-Control\"/><title>sunny leone - Google Search</title><style>a{text-decoration:none;color:inherit}a:hover{text-decoration:underline}a img{border:0}body{font-family:arial,sans-serif;padding:8px;margin:0 auto;max-width:700px;min-width:240px;}.FbhRzb{border-left:thin solid #dadce0;border-right:thin solid #dadce0;border-top:thin solid #dadce0;height:40px;overflow:hidden}.n692Zd{margin-bottom:10px}.cvifge{height:40px;border-spacing:0}.QvGUP{height:40px;padding:0 8px 0 8px;vertical-align:top}.O4cRJf{height:40px;width:100%;padding:0;padding-right:16px}.O1ePr{height:40px;padding:0;vertical-align:top}.kgJEQe{height:36px;width:98px;vertical-align:top;margin-top:4px}.lXLRf{vertical-align:top}.MhzMZd{border:0;vertical-align:middle;font-size:14px;height:40px;padding:0;width:100%;padding-left:16px}.xB0fq{height:40px;border:none;font-size:14px;background-color:#1a73e8;color:#fff;padding:0 16px;margin:0;vertical-align:top;cursor:pointer}.xB0fq:focus{border:1px solid #1a73e8}.M7pB2{border:thin solid #dadce0;margin:0 0 3px 0;font-size:13px;font-weight:500;height:40px}.euZec{width:100%;height:40px;text-align:center;border-spacing:0}table.euZec td{padding:0;width:25%}.QIqI7{display:inline-block;padding-top:4px;font-weight:bold;color:#4285f4}.EY24We{border-bottom:2px solid #4285f4}.CsQyDc{display:inline-block;color:#70757a}.TuS8Ad{font-size:14px}.HddGcc{padding:8px;color:#70757a}.dzp8ae{font-weight:bold;color:#3c4043}.rEM8G{color:#70757a}.bookcf{table-layout:fixed;width:100%;border-spacing:0}.InWNIe{text-align:center}.uZgmoc{border:thin solid #dadce0;color:#70757a;font-size:14px;text-align:center;table-layout:fixed;width:100%}.frGj1b{display:block;padding:12px 0 12px 0;width:100%}.BnJWBc{text-align:center;padding:6px 0 13px 0;height:35px}.e3goi{vertical-align:top;padding:0;height:180px}.GpQGbf{margin:auto;border-collapse:collapse;border-spacing:0;width:100%}</style></head><body><style>.X6ZCif{color:#202124;font-size:11px;line-height:16px;display:inline-block;padding-top:2px;overflow:hidden;padding-bottom:4px;width:100%}.TwVfHd{border-radius:16px;border:thin solid #dadce0;display:inline-block;padding:8px 8px;margin-right:8px;margin-bottom:4px}.yekiAe{background-color:#dadce0}.jjVJ4e{width:100%}.ezO2md{border:thin solid #dadce0;padding:12px 16px 12px 16px;margin-bottom:10px;font-family:arial,sans-serif}.lIMUZd{font-family:arial,sans-serif}.RntSmf{border-spacing:0}.lgD2Tc{width:100%}.SpelHe{text-align:center}.SpelHe{position:relative}.kCmkOe{position:relative}.kCmkOe{width:162px;height:140px;line-height:140px;overflow:'hidden';text-align:center}.DS1iW{text-align:center;margin:auto;vertical-align:middle;max-width:162px;max-height:140px}.AlD19d{padding-top:2px;padding-bottom:8px;}.fYyStc{word-break:break-word}.ynsChf{display:block;white-space:nowrap;overflow:hidden;text-overflow:ellipsis}.Fj3V3b{color:#1967d2;font-size:14px;line-height:20px}.FrIlee{color:#202124;font-size:11px;line-height:16px}.F9iS2e{color:#70757a;font-size:11px;line-height:16px}.WMQ2Le{color:#70757a;font-size:12px;line-height:16px}.x3G5ab{color:#202124;font-size:12px;line-height:16px}.fuLhoc{color:#1967d2;font-size:16px;line-height:20px}.epoveb{font-size:24px;line-height:28px;font-weight:400;color:#202124}.dXDvrc{color:#0d652d;font-size:14px;line-height:20px;word-wrap:break-word}.dloBPe{font-weight:bold}.YVIcad{color:#70757a}.JkVVdd{color:#ea4335}.oXZRFd{color:#ea4335}.MQHtg{color:#fbbc04}.pyMRrb{color:#1e8e3e}.EtTZid{color:#1e8e3e}.M3vVJe{color:#1967d2}.qXLe6d{display:block}.NHQNef{font-style:italic}.Cb8Z7c{white-space:pre}a.ZWRArf{text-decoration:none}a .CVA68e:hover{text-decoration:underline}</style><div class=\"n692Zd\"><div class=\"BnJWBc\"><a class=\"lXLRf\" href=\"/?sa=X&amp;sca_esv=a691801792404b30&amp;rlz=1C5CHFA_enIN1009IN1009&amp;biw=1164&amp;bih=545&amp;output=images&amp;ie=UTF-8&amp;tbm=isch&amp;ved=0ahUKEwjJmI_voseEAxXTRmwGHcb4A7IQPAgC\"><img alt=\"Google\" class=\"kgJEQe\" src=\"/images/branding/searchlogo/1x/googlelogo_desk_heirloom_color_150x55dp.gif\"/></a></div><div class=\"FbhRzb\"><form action=\"/search\"><input name=\"sca_esv\" type=\"hidden\" value=\"a691801792404b30\"/><input name=\"rlz\" type=\"hidden\" value=\"1C5CHFA_enIN1009IN1009\"/><input name=\"biw\" type=\"hidden\" value=\"1164\"/><input name=\"bih\" type=\"hidden\" value=\"545\"/><input name=\"ie\" type=\"hidden\" value=\"ISO-8859-1\"/><input name=\"tbm\" type=\"hidden\" value=\"isch\"/><input name=\"oq\" type=\"hidden\"/><input name=\"aqs\" type=\"hidden\"/><table class=\"cvifge\"><tr><td class=\"O4cRJf\"><input class=\"MhzMZd\" name=\"q\" type=\"text\" value=\"sunny leone\"/></td><td class=\"O1ePr\"><input class=\"xB0fq\" type=\"submit\" value=\"Search\"/></td></tr></table></form></div><div class=\"M7pB2\"><table class=\"euZec\"><tbody><tr><td><a class=\"CsQyDc\" href=\"/search?q=sunny+leone&amp;sca_esv=a691801792404b30&amp;rlz=1C5CHFA_enIN1009IN1009&amp;biw=1164&amp;bih=545&amp;ie=UTF-8&amp;source=lnms&amp;sa=X&amp;ved=0ahUKEwjJmI_voseEAxXTRmwGHcb4A7IQ_AUIBCgA\">ALL</a></td><td><a class=\"CsQyDc\" href=\"/search?q=sunny+leone&amp;sca_esv=a691801792404b30&amp;rlz=1C5CHFA_enIN1009IN1009&amp;biw=1164&amp;bih=545&amp;ie=UTF-8&amp;tbm=vid&amp;source=lnms&amp;sa=X&amp;ved=0ahUKEwjJmI_voseEAxXTRmwGHcb4A7IQ_AUIBSgB\">VIDEOS</a></td><td class=\"EY24We\"><span class=\"QIqI7\">IMAGES</span></td><td><a class=\"CsQyDc\" href=\"/search?q=sunny+leone&amp;sca_esv=a691801792404b30&amp;rlz=1C5CHFA_enIN1009IN1009&amp;biw=1164&amp;bih=545&amp;ie=UTF-8&amp;tbm=nws&amp;source=lnms&amp;sa=X&amp;ved=0ahUKEwjJmI_voseEAxXTRmwGHcb4A7IQ_AUIBygD\">NEWS</a></td></tr></tbody></table></div></div><div><table class=\"GpQGbf\"><tr><td align=\"center\" class=\"e3goi\"><div class=\"jjVJ4e\"> <div> <div class=\"lIMUZd\"><div><table class=\"RntSmf\"><tr><td><a href=\"/url?q=https://en.wikipedia.org/wiki/Sunny_Leone&amp;sa=U&amp;ved=2ahUKEwjJmI_voseEAxXTRmwGHcb4A7IQqoUBegQICBAB&amp;usg=AOvVaw1dnzmzBMhVefcHHsPT8nO4\"><div class=\"kCmkOe\"><img alt=\"\" class=\"DS1iW\" src=\"https://encrypted-tbn0.gstatic.com/images?q=tbn:ANd9GcRXO385fXl0OG5_sM9dW2HbmzGo8lgjI-dF_IZ3ESgGMW-PGsb7QTW0Z9fyNFc&amp;s\"/></div></a></td></tr><tr><td><a href=\"/url?q=https://en.wikipedia.org/wiki/Sunny_Leone&amp;sa=U&amp;ved=2ahUKEwjJmI_voseEAxXTRmwGHcb4A7IQr4kDegQICBAC&amp;usg=AOvVaw3SOb5sW4n84fujui0c3foi\"><div class=\"AlD19d\"> <span class=\"qXLe6d x3G5ab\"> <span class=\"fYyStc\">Sunny Leone - Wikipedia</span> </span> <span class=\"qXLe6d F9iS2e\"> <span class=\"fYyStc\">en.wikipedia.org</span> </span> </div></a></td></tr></table></div></div> </div> </div></td><td align=\"center\" class=\"e3goi\"><div class=\"jjVJ4e\"> <div> <div class=\"lIMUZd\"><div><table class=\"RntSmf\"><tr><td><a href=\"/url?q=https://www.imdb.com/name/nm1293381/&amp;sa=U&amp;ved=2ahUKEwjJmI_voseEAxXTRmwGHcb4A7IQqoUBegQIExAB&amp;usg=AOvVaw0Ld6Q6fIstQLeXkDVv8QIF\"><div class=\"kCmkOe\"><img alt=\"\" class=\"DS1iW\" src=\"https://encrypted-tbn0.gstatic.com/images?q=tbn:ANd9GcSzgYTtt9tjEgMtIdXqHq6naHmi_M9KhQm7PP7rM3eSofe9cWnrCw9lKWU75A&amp;s\"/></div></a></td></tr><tr><td><a href=\"/url?q=https://www.imdb.com/name/nm1293381/&amp;sa=U&amp;ved=2ahUKEwjJmI_voseEAxXTRmwGHcb4A7IQr4kDegQIExAC&amp;usg=AOvVaw124ZvppEzXSsIpy8HD6I0C\"><div class=\"AlD19d\"> <span class=\"qXLe6d x3G5ab\"> <span class=\"fYyStc\">Sunny Leone - IMDb</span> </span> <span class=\"qXLe6d F9iS2e\"> <span class=\"fYyStc\">www.imdb.com</span> </span> </div></a></td></tr></table></div></div> </div> </div></td><td align=\"center\" class=\"e3goi\"><div class=\"jjVJ4e\"> <div> <div class=\"lIMUZd\"><div><table class=\"RntSmf\"><tr><td><a href=\"/url?q=https://www.instagram.com/sunnyleone/&amp;sa=U&amp;ved=2ahUKEwjJmI_voseEAxXTRmwGHcb4A7IQqoUBegQIEhAB&amp;usg=AOvVaw2h1dB16Iqkor2LlT8X23Jy\"><div class=\"kCmkOe\"><img alt=\"\" class=\"DS1iW\" src=\"https://encrypted-tbn0.gstatic.com/images?q=tbn:ANd9GcSRpdqNow1VinXsTi33ySd7PwA_0QKrfuOiZ1zqygnQ4OEw8TUMObAhzIWC-xM&amp;s\"/></div></a></td></tr><tr><td><a href=\"/url?q=https://www.instagram.com/sunnyleone/&amp;sa=U&amp;ved=2ahUKEwjJmI_voseEAxXTRmwGHcb4A7IQr4kDegQIEhAC&amp;usg=AOvVaw23oG9gO-lk3vBKMLsAwzUR\"><div class=\"AlD19d\"> <span class=\"qXLe6d x3G5ab\"> <span class=\"fYyStc\">Sunny Leone (@sunnyleone) •...</span> </span> <span class=\"qXLe6d F9iS2e\"> <span class=\"fYyStc\">www.instagram.com</span> </span> </div></a></td></tr></table></div></div> </div> </div></td><td align=\"center\" class=\"e3goi\"><div class=\"jjVJ4e\"> <div> <div class=\"lIMUZd\"><div><table class=\"RntSmf\"><tr><td><a href=\"/url?q=https://en.wikipedia.org/wiki/Sunny_Leone&amp;sa=U&amp;ved=2ahUKEwjJmI_voseEAxXTRmwGHcb4A7IQqoUBegQIERAB&amp;usg=AOvVaw3LtmN6oIvxhjiyjo2kdakq\"><div class=\"kCmkOe\"><img alt=\"\" class=\"DS1iW\" src=\"https://encrypted-tbn0.gstatic.com/images?q=tbn:ANd9GcRJPM25J7Z7BOHroHmUMlvw8__yo7KSGE-tqBW-_O9Ow5zWVa7SgE75nf2MjQ&amp;s\"/></div></a></td></tr><tr><td><a href=\"/url?q=https://en.wikipedia.org/wiki/Sunny_Leone&amp;sa=U&amp;ved=2ahUKEwjJmI_voseEAxXTRmwGHcb4A7IQr4kDegQIERAC&amp;usg=AOvVaw1wFs5mEepTxhpg3dzJPdYG\"><div class=\"AlD19d\"> <span class=\"qXLe6d x3G5ab\"> <span class=\"fYyStc\">Sunny Leone - Wikipedia</span> </span> <span class=\"qXLe6d F9iS2e\"> <span class=\"fYyStc\">en.wikipedia.org</span> </span> </div></a></td></tr></table></div></div> </div> </div></td></tr><tr><td align=\"center\" class=\"e3goi\"><div class=\"jjVJ4e\"> <div> <div class=\"lIMUZd\"><div><table class=\"RntSmf\"><tr><td><a href=\"/url?q=https://in.pinterest.com/pin/812125745308442812/&amp;sa=U&amp;ved=2ahUKEwjJmI_voseEAxXTRmwGHcb4A7IQqoUBegQICxAB&amp;usg=AOvVaw2XqPrFBMxkauESz_4XW0-a\"><div class=\"kCmkOe\"><img alt=\"\" class=\"DS1iW\" src=\"https://encrypted-tbn0.gstatic.com/images?q=tbn:ANd9GcRjmDZXugvafzzTTnfd-LIG09OhoSoRdNY-EuhXp1zQKVSXSSTFRfxhhgeFxt4&amp;s\"/></div></a></td></tr><tr><td><a href=\"/url?q=https://in.pinterest.com/pin/812125745308442812/&amp;sa=U&amp;ved=2ahUKEwjJmI_voseEAxXTRmwGHcb4A7IQr4kDegQICxAC&amp;usg=AOvVaw1Idw2B4EUNpFDA02rDC_uv\"><div class=\"AlD19d\"> <span class=\"qXLe6d x3G5ab\"> <span class=\"fYyStc\">Pin on Sunny Leone</span> </span> <span class=\"qXLe6d F9iS2e\"> <span class=\"fYyStc\">in.pinterest.com</span> </span> </div></a></td></tr></table></div></div> </div> </div></td><td align=\"center\" class=\"e3goi\"><div class=\"jjVJ4e\"> <div> <div class=\"lIMUZd\"><div><table class=\"RntSmf\"><tr><td><a href=\"/url?q=https://www.instagram.com/sunnyleone/&amp;sa=U&amp;ved=2ahUKEwjJmI_voseEAxXTRmwGHcb4A7IQqoUBegQIChAB&amp;usg=AOvVaw0X7E6E6seb9Io1LHgq0Qwk\"><div class=\"kCmkOe\"><img alt=\"\" class=\"DS1iW\" src=\"https://encrypted-tbn0.gstatic.com/images?q=tbn:ANd9GcRkw1SL2PLBqij2Y_LyBvqGN1xoF7u86UkBlxS_68yRjWuAdOR-WaOfns7vqA&amp;s\"/></div></a></td></tr><tr><td><a href=\"/url?q=https://www.instagram.com/sunnyleone/&amp;sa=U&amp;ved=2ahUKEwjJmI_voseEAxXTRmwGHcb4A7IQr4kDegQIChAC&amp;usg=AOvVaw1I4D-O8lbN2Ql7s8IGIPuq\"><div class=\"AlD19d\"> <span class=\"qXLe6d x3G5ab\"> <span class=\"fYyStc\">Sunny Leone (@sunnyleone) •...</span> </span> <span class=\"qXLe6d F9iS2e\"> <span class=\"fYyStc\">www.instagram.com</span> </span> </div></a></td></tr></table></div></div> </div> </div></td><td align=\"center\" class=\"e3goi\"><div class=\"jjVJ4e\"> <div> <div class=\"lIMUZd\"><div><table class=\"RntSmf\"><tr><td><a href=\"/url?q=https://www.youtube.com/channel/UC7ZWjLGJ20SDZ4DB071Y_ag&amp;sa=U&amp;ved=2ahUKEwjJmI_voseEAxXTRmwGHcb4A7IQqoUBegQICRAB&amp;usg=AOvVaw0Oy94Epu1JUi3j045U9jyx\"><div class=\"kCmkOe\"><img alt=\"\" class=\"DS1iW\" src=\"https://encrypted-tbn0.gstatic.com/images?q=tbn:ANd9GcSbnM02Jozk5izbdaU0XQ4kke0kvSqp5mIU9Iy1z3r8tZDum10HQYZt8r0TpQ&amp;s\"/></div></a></td></tr><tr><td><a href=\"/url?q=https://www.youtube.com/channel/UC7ZWjLGJ20SDZ4DB071Y_ag&amp;sa=U&amp;ved=2ahUKEwjJmI_voseEAxXTRmwGHcb4A7IQr4kDegQICRAC&amp;usg=AOvVaw0a9BsuhRN-W3NZxslJeWTE\"><div class=\"AlD19d\"> <span class=\"qXLe6d x3G5ab\"> <span class=\"fYyStc\">Sunny Leone - YouTube</span> </span> <span class=\"qXLe6d F9iS2e\"> <span class=\"fYyStc\">www.youtube.com</span> </span> </div></a></td></tr></table></div></div> </div> </div></td><td align=\"center\" class=\"e3goi\"><div class=\"jjVJ4e\"> <div> <div class=\"lIMUZd\"><div><table class=\"RntSmf\"><tr><td><a href=\"/url?q=https://english.tupaki.com/entertainment/article/sunny-leone-flaunts-her-top-curve/123049&amp;sa=U&amp;ved=2ahUKEwjJmI_voseEAxXTRmwGHcb4A7IQqoUBegQIDRAB&amp;usg=AOvVaw2aFNbzNcrjT92qmSIj-XpH\"><div class=\"kCmkOe\"><img alt=\"\" class=\"DS1iW\" src=\"https://encrypted-tbn0.gstatic.com/images?q=tbn:ANd9GcT16ksOsB7YR_wyaOxC4r5HStVyghDhEhYYbYKZmh4rPYldVWLPbCt_znFaVOU&amp;s\"/></div></a></td></tr><tr><td><a href=\"/url?q=https://english.tupaki.com/entertainment/article/sunny-leone-flaunts-her-top-curve/123049&amp;sa=U&amp;ved=2ahUKEwjJmI_voseEAxXTRmwGHcb4A7IQr4kDegQIDRAC&amp;usg=AOvVaw3NQTV7qyLHgJ3ZAl9HC-UB\"><div class=\"AlD19d\"> <span class=\"qXLe6d x3G5ab\"> <span class=\"fYyStc\">Pic Talk: Sunny Leone...</span> </span> <span class=\"qXLe6d F9iS2e\"> <span class=\"fYyStc\">english.tupaki.com</span> </span> </div></a></td></tr></table></div></div> </div> </div></td></tr><tr><td align=\"center\" class=\"e3goi\"><div class=\"jjVJ4e\"> <div> <div class=\"lIMUZd\"><div><table class=\"RntSmf\"><tr><td><a href=\"/url?q=https://timesofindia.indiatimes.com/entertainment/hindi/bollywood/news/happy-birthday-sunny-leone-10-times-the-baby-doll-actress-set-the-temperature-soaring-with-her-mesmerising-photoshoots/articleshow/75710555.cms&amp;sa=U&amp;ved=2ahUKEwjJmI_voseEAxXTRmwGHcb4A7IQqoUBegQIDBAB&amp;usg=AOvVaw3Rn58uZ2DmFs5yZWNU4jTa\"><div class=\"kCmkOe\"><img alt=\"\" class=\"DS1iW\" src=\"https://encrypted-tbn0.gstatic.com/images?q=tbn:ANd9GcQbNnFHfh7vrSI_4IRGiT5qQLMr3rH7IPQiuPB297-xoGFhPVH0f3BI_zsH0w&amp;s\"/></div></a></td></tr><tr><td><a href=\"/url?q=https://timesofindia.indiatimes.com/entertainment/hindi/bollywood/news/happy-birthday-sunny-leone-10-times-the-baby-doll-actress-set-the-temperature-soaring-with-her-mesmerising-photoshoots/articleshow/75710555.cms&amp;sa=U&amp;ved=2ahUKEwjJmI_voseEAxXTRmwGHcb4A7IQr4kDegQIDBAC&amp;usg=AOvVaw1MLtzQb6SPNZziC1wZo4en\"><div class=\"AlD19d\"> <span class=\"qXLe6d x3G5ab\"> <span class=\"fYyStc\">Happy Birthday, Sunny...</span> </span> <span class=\"qXLe6d F9iS2e\"> <span class=\"fYyStc\">timesofindia.indiatimes.com...</span> </span> </div></a></td></tr></table></div></div> </div> </div></td><td align=\"center\" class=\"e3goi\"><div class=\"jjVJ4e\"> <div> <div class=\"lIMUZd\"><div><table class=\"RntSmf\"><tr><td><a href=\"/url?q=https://www.freepressjournal.in/entertainment/sunny-leone-thanks-mumbai-police-for-finding-her-house-helps-9-yr-old-daughter-who-went-missingin-jogeshwari&amp;sa=U&amp;ved=2ahUKEwjJmI_voseEAxXTRmwGHcb4A7IQqoUBegQIDxAB&amp;usg=AOvVaw2i7E6cceLp0zELYQinkugu\"><div class=\"kCmkOe\"><img alt=\"\" class=\"DS1iW\" src=\"https://encrypted-tbn0.gstatic.com/images?q=tbn:ANd9GcRIs2GSDT8FCpkd7aALQ8hjdoOqou-0jNHOavkSMI2D-88R1tGdgCTWokmQeTo&amp;s\"/></div></a></td></tr><tr><td><a href=\"/url?q=https://www.freepressjournal.in/entertainment/sunny-leone-thanks-mumbai-police-for-finding-her-house-helps-9-yr-old-daughter-who-went-missingin-jogeshwari&amp;sa=U&amp;ved=2ahUKEwjJmI_voseEAxXTRmwGHcb4A7IQr4kDegQIDxAC&amp;usg=AOvVaw0m2gmjXMJ1AKoCdJAKUanb\"><div class=\"AlD19d\"> <span class=\"qXLe6d x3G5ab\"> <span class=\"fYyStc\">Sunny Leone Thanks Mumbai...</span> </span> <span class=\"qXLe6d F9iS2e\"> <span class=\"fYyStc\">www.freepressjournal.in</span> </span> </div></a></td></tr></table></div></div> </div> </div></td><td align=\"center\" class=\"e3goi\"><div class=\"jjVJ4e\"> <div> <div class=\"lIMUZd\"><div><table class=\"RntSmf\"><tr><td><a href=\"/url?q=https://www.ndtv.com/entertainment/sunny-leone-is-clearly-still-dreaming-of-maldives-see-her-holiday-pics-4146685&amp;sa=U&amp;ved=2ahUKEwjJmI_voseEAxXTRmwGHcb4A7IQqoUBegQIEBAB&amp;usg=AOvVaw2sv36uXoG4f2BvvF6zpiuL\"><div class=\"kCmkOe\"><img alt=\"\" class=\"DS1iW\" src=\"https://encrypted-tbn0.gstatic.com/images?q=tbn:ANd9GcQexkWapMuYR-68rRa14AgWrKEm69TPVVOtoUfvJkIvBJoLxcKihukh_GO3bw&amp;s\"/></div></a></td></tr><tr><td><a href=\"/url?q=https://www.ndtv.com/entertainment/sunny-leone-is-clearly-still-dreaming-of-maldives-see-her-holiday-pics-4146685&amp;sa=U&amp;ved=2ahUKEwjJmI_voseEAxXTRmwGHcb4A7IQr4kDegQIEBAC&amp;usg=AOvVaw1vT4mdC0fOc89CFkLDx8GU\"><div class=\"AlD19d\"> <span class=\"qXLe6d x3G5ab\"> <span class=\"fYyStc\">Sunny Leone Is Clearly...</span> </span> <span class=\"qXLe6d F9iS2e\"> <span class=\"fYyStc\">www.ndtv.com</span> </span> </div></a></td></tr></table></div></div> </div> </div></td><td align=\"center\" class=\"e3goi\"><div class=\"jjVJ4e\"> <div> <div class=\"lIMUZd\"><div><table class=\"RntSmf\"><tr><td><a href=\"/url?q=https://www.gulte.com/movienews/92966/pic-talk-stunning-shot-of-sunny-leone&amp;sa=U&amp;ved=2ahUKEwjJmI_voseEAxXTRmwGHcb4A7IQqoUBegQIDhAB&amp;usg=AOvVaw1-JN-XiM2PX16wMa3EoBok\"><div class=\"kCmkOe\"><img alt=\"\" class=\"DS1iW\" src=\"https://encrypted-tbn0.gstatic.com/images?q=tbn:ANd9GcQATOYQk1Z0vBDYA02bm0_2KnAoLYvdQXkUG9M_9KZ-upMRYbXgFubPzL8-rw&amp;s\"/></div></a></td></tr><tr><td><a href=\"/url?q=https://www.gulte.com/movienews/92966/pic-talk-stunning-shot-of-sunny-leone&amp;sa=U&amp;ved=2ahUKEwjJmI_voseEAxXTRmwGHcb4A7IQr4kDegQIDhAC&amp;usg=AOvVaw097RRvgQxkZRoshP7YvJk4\"><div class=\"AlD19d\"> <span class=\"qXLe6d x3G5ab\"> <span class=\"fYyStc\">Pic Talk: Stunning Shot Of...</span> </span> <span class=\"qXLe6d F9iS2e\"> <span class=\"fYyStc\">www.gulte.com</span> </span> </div></a></td></tr></table></div></div> </div> </div></td></tr><tr><td align=\"center\" class=\"e3goi\"><div class=\"jjVJ4e\"> <div> <div class=\"lIMUZd\"><div><table class=\"RntSmf\"><tr><td><a href=\"/url?q=https://timesofindia.indiatimes.com/entertainment/hindi/web-stories/10-breathtaking-beach-photos-of-sunny-leone/photostory/93639289.cms&amp;sa=U&amp;ved=2ahUKEwjJmI_voseEAxXTRmwGHcb4A7IQqoUBegQIBBAB&amp;usg=AOvVaw1Yy6FtDbO2OES6R2lYQ8lv\"><div class=\"kCmkOe\"><img alt=\"\" class=\"DS1iW\" src=\"https://encrypted-tbn0.gstatic.com/images?q=tbn:ANd9GcTuGKoBR_TnOsNTccQWiIgvKMLwF7jRzPM4P4xyDKNKoK8xMnreTSwpAx-yzg&amp;s\"/></div></a></td></tr><tr><td><a href=\"/url?q=https://timesofindia.indiatimes.com/entertainment/hindi/web-stories/10-breathtaking-beach-photos-of-sunny-leone/photostory/93639289.cms&amp;sa=U&amp;ved=2ahUKEwjJmI_voseEAxXTRmwGHcb4A7IQr4kDegQIBBAC&amp;usg=AOvVaw00IfVqg7WF2HHJ3mtLOjW0\"><div class=\"AlD19d\"> <span class=\"qXLe6d x3G5ab\"> <span class=\"fYyStc\">10 breathtaking beach...</span> </span> <span class=\"qXLe6d F9iS2e\"> <span class=\"fYyStc\">timesofindia.indiatimes.com...</span> </span> </div></a></td></tr></table></div></div> </div> </div></td><td align=\"center\" class=\"e3goi\"><div class=\"jjVJ4e\"> <div> <div class=\"lIMUZd\"><div><table class=\"RntSmf\"><tr><td><a href=\"/url?q=https://www.historystudy.in/2023/03/sunny-leone-biography-net-worth-age.html&amp;sa=U&amp;ved=2ahUKEwjJmI_voseEAxXTRmwGHcb4A7IQqoUBegQIARAB&amp;usg=AOvVaw2vjI9lFQ-17nZ6cVSqQA4i\"><div class=\"kCmkOe\"><img alt=\"\" class=\"DS1iW\" src=\"https://encrypted-tbn0.gstatic.com/images?q=tbn:ANd9GcQtBpxxwU2hjxSA0b2TL47Um9WDVhpdmw33ooL_1W3uGRjQHskq2jp68ArI-A&amp;s\"/></div></a></td></tr><tr><td><a href=\"/url?q=https://www.historystudy.in/2023/03/sunny-leone-biography-net-worth-age.html&amp;sa=U&amp;ved=2ahUKEwjJmI_voseEAxXTRmwGHcb4A7IQr4kDegQIARAC&amp;usg=AOvVaw0DvDQH_Tehb41oj_CgCfgH\"><div class=\"AlD19d\"> <span class=\"qXLe6d x3G5ab\"> <span class=\"fYyStc\">Sunny Leone Biography &amp; Net...</span> </span> <span class=\"qXLe6d F9iS2e\"> <span class=\"fYyStc\">www.historystudy.in</span> </span> </div></a></td></tr></table></div></div> </div> </div></td><td align=\"center\" class=\"e3goi\"><div class=\"jjVJ4e\"> <div> <div class=\"lIMUZd\"><div><table class=\"RntSmf\"><tr><td><a href=\"/url?q=https://www.flipkart.com/sunny-leone-indo-canadian-actress-matte-finish-poster-paper-print/p/itmf4a4d9590785f&amp;sa=U&amp;ved=2ahUKEwjJmI_voseEAxXTRmwGHcb4A7IQqoUBegQIBRAB&amp;usg=AOvVaw1Ak5-XzGaxlbkElt6HpDrt\"><div class=\"kCmkOe\"><img alt=\"\" class=\"DS1iW\" src=\"https://encrypted-tbn0.gstatic.com/images?q=tbn:ANd9GcQaqLYfFIrejJJ8uQphacPFXom_iR0nQ7tX8fGVmOHmmJZo9xWmeob05qgeEmc&amp;s\"/></div></a></td></tr><tr><td><a href=\"/url?q=https://www.flipkart.com/sunny-leone-indo-canadian-actress-matte-finish-poster-paper-print/p/itmf4a4d9590785f&amp;sa=U&amp;ved=2ahUKEwjJmI_voseEAxXTRmwGHcb4A7IQr4kDegQIBRAC&amp;usg=AOvVaw3rtjsM5BRVBKTjF3HVIh4Z\"><div class=\"AlD19d\"> <span class=\"qXLe6d x3G5ab\"> <span class=\"fYyStc\">Sunny Leone Indo Canadian...</span> </span> <span class=\"qXLe6d F9iS2e\"> <span class=\"fYyStc\">www.flipkart.com</span> </span> </div></a></td></tr></table></div></div> </div> </div></td><td align=\"center\" class=\"e3goi\"><div class=\"jjVJ4e\"> <div> <div class=\"lIMUZd\"><div><table class=\"RntSmf\"><tr><td><a href=\"/url?q=https://www.amarujala.com/photo-gallery/entertainment/bollywood/actress-sunny-leone-to-debut-in-malayalam-ott-with-upcoming-web-series-pan-indian-sundari-know-here-details-2023-12-16&amp;sa=U&amp;ved=2ahUKEwjJmI_voseEAxXTRmwGHcb4A7IQqoUBegQIAhAB&amp;usg=AOvVaw1Srixnl4-VtLDMzdloMGbr\"><div class=\"kCmkOe\"><img alt=\"\" class=\"DS1iW\" src=\"https://encrypted-tbn0.gstatic.com/images?q=tbn:ANd9GcQ4ZwhA-KkA4-R7c9pbM5I3Z0yVEWgVgm1Y49r4L7PF6U85088HrR0a_Xu3Xg&amp;s\"/></div></a></td></tr><tr><td><a href=\"/url?q=https://www.amarujala.com/photo-gallery/entertainment/bollywood/actress-sunny-leone-to-debut-in-malayalam-ott-with-upcoming-web-series-pan-indian-sundari-know-here-details-2023-12-16&amp;sa=U&amp;ved=2ahUKEwjJmI_voseEAxXTRmwGHcb4A7IQr4kDegQIAhAC&amp;usg=AOvVaw1KMrSeVSlrGqrjfb73YLJm\"><div class=\"AlD19d\"> <span class=\"qXLe6d x3G5ab\"> <span class=\"fYyStc\">Actress Sunny Leone To...</span> </span> <span class=\"qXLe6d F9iS2e\"> <span class=\"fYyStc\">www.amarujala.com</span> </span> </div></a></td></tr></table></div></div> </div> </div></td></tr><tr><td align=\"center\" class=\"e3goi\"><div class=\"jjVJ4e\"> <div> <div class=\"lIMUZd\"><div><table class=\"RntSmf\"><tr><td><a href=\"/url?q=https://rapidkings.com/sunny-leone-mobile-number-whatsapp-number-phone-number-address-and-more/&amp;sa=U&amp;ved=2ahUKEwjJmI_voseEAxXTRmwGHcb4A7IQqoUBegQIAxAB&amp;usg=AOvVaw21gtTIS0M1VyX_7wLFKjHW\"><div class=\"kCmkOe\"><img alt=\"\" class=\"DS1iW\" src=\"https://encrypted-tbn0.gstatic.com/images?q=tbn:ANd9GcSxpZQ2-hSRfVyCuHZzw2cCcCN56sHQcwhILgizRCTk5Dqsdi_YCsYxDIB5LFE&amp;s\"/></div></a></td></tr><tr><td><a href=\"/url?q=https://rapidkings.com/sunny-leone-mobile-number-whatsapp-number-phone-number-address-and-more/&amp;sa=U&amp;ved=2ahUKEwjJmI_voseEAxXTRmwGHcb4A7IQr4kDegQIAxAC&amp;usg=AOvVaw0znoZvz68Ie8wTZWA_jXdI\"><div class=\"AlD19d\"> <span class=\"qXLe6d x3G5ab\"> <span class=\"fYyStc\">OFFICIAL CONTACT- Sunny...</span> </span> <span class=\"qXLe6d F9iS2e\"> <span class=\"fYyStc\">rapidkings.com</span> </span> </div></a></td></tr></table></div></div> </div> </div></td><td align=\"center\" class=\"e3goi\"><div class=\"jjVJ4e\"> <div> <div class=\"lIMUZd\"><div><table class=\"RntSmf\"><tr><td><a href=\"/url?q=https://www.koimoi.com/bollywood-news/salman-khan-once-addressed-sunny-leones-adult-film-career-said-she-has-many-hits-on-her-website-adding-maine-kabhi-nahi-dekha/&amp;sa=U&amp;ved=2ahUKEwjJmI_voseEAxXTRmwGHcb4A7IQqoUBegQIABAB&amp;usg=AOvVaw3LJqLl5m40MqsOEDjVQUOZ\"><div class=\"kCmkOe\"><img alt=\"\" class=\"DS1iW\" src=\"https://encrypted-tbn0.gstatic.com/images?q=tbn:ANd9GcTVPY77AWeZG980ahIleCsOAtWQzYxZXGaCkIRzk8t_hG-CVx2cOOaq-t81in0&amp;s\"/></div></a></td></tr><tr><td><a href=\"/url?q=https://www.koimoi.com/bollywood-news/salman-khan-once-addressed-sunny-leones-adult-film-career-said-she-has-many-hits-on-her-website-adding-maine-kabhi-nahi-dekha/&amp;sa=U&amp;ved=2ahUKEwjJmI_voseEAxXTRmwGHcb4A7IQr4kDegQIABAC&amp;usg=AOvVaw04kUzldrnZOxyYOW9YqJkT\"><div class=\"AlD19d\"> <span class=\"qXLe6d x3G5ab\"> <span class=\"fYyStc\">Salman Khan Once Addressed...</span> </span> <span class=\"qXLe6d F9iS2e\"> <span class=\"fYyStc\">www.koimoi.com</span> </span> </div></a></td></tr></table></div></div> </div> </div></td><td align=\"center\" class=\"e3goi\"><div class=\"jjVJ4e\"> <div> <div class=\"lIMUZd\"><div><table class=\"RntSmf\"><tr><td><a href=\"/url?q=https://www.themoviedb.org/person/140771-sunny-leone/images/profiles&amp;sa=U&amp;ved=2ahUKEwjJmI_voseEAxXTRmwGHcb4A7IQqoUBegQIBhAB&amp;usg=AOvVaw14gIBgVswOyIRt59bCZOmZ\"><div class=\"kCmkOe\"><img alt=\"\" class=\"DS1iW\" src=\"https://encrypted-tbn0.gstatic.com/images?q=tbn:ANd9GcTxmrail63FinTH7uQABvlsGJ1GwK7WaDpSvbK-3Wmg7v0Je2dWDbQZr-dhFg&amp;s\"/></div></a></td></tr><tr><td><a href=\"/url?q=https://www.themoviedb.org/person/140771-sunny-leone/images/profiles&amp;sa=U&amp;ved=2ahUKEwjJmI_voseEAxXTRmwGHcb4A7IQr4kDegQIBhAC&amp;usg=AOvVaw1DwmcSFvJYBEsCm1OranjZ\"><div class=\"AlD19d\"> <span class=\"qXLe6d x3G5ab\"> <span class=\"fYyStc\">Sunny Leone - Profile...</span> </span> <span class=\"qXLe6d F9iS2e\"> <span class=\"fYyStc\">www.themoviedb.org</span> </span> </div></a></td></tr></table></div></div> </div> </div></td><td align=\"center\" class=\"e3goi\"><div class=\"jjVJ4e\"> <div> <div class=\"lIMUZd\"><div><table class=\"RntSmf\"><tr><td><a href=\"/url?q=https://m.imdb.com/name/nm1293381/mediaviewer/rm3138570753&amp;sa=U&amp;ved=2ahUKEwjJmI_voseEAxXTRmwGHcb4A7IQqoUBegQIBxAB&amp;usg=AOvVaw0dBz51vWy_Mll0PgZN4sny\"><div class=\"kCmkOe\"><img alt=\"\" class=\"DS1iW\" src=\"https://encrypted-tbn0.gstatic.com/images?q=tbn:ANd9GcT8vRNui8JB_Bs00OhPRfVPXtjdiHzjyCHfy0vWN3GyRX4vgTgvLWChgPew4A&amp;s\"/></div></a></td></tr><tr><td><a href=\"/url?q=https://m.imdb.com/name/nm1293381/mediaviewer/rm3138570753&amp;sa=U&amp;ved=2ahUKEwjJmI_voseEAxXTRmwGHcb4A7IQr4kDegQIBxAC&amp;usg=AOvVaw2wU9lT23J6fR1Bq70oNox2\"><div class=\"AlD19d\"> <span class=\"qXLe6d x3G5ab\"> <span class=\"fYyStc\">Sunny Leone</span> </span> <span class=\"qXLe6d F9iS2e\"> <span class=\"fYyStc\">m.imdb.com</span> </span> </div></a></td></tr></table></div></div> </div> </div></td></tr></table></div><table class=\"uZgmoc\"><tbody><td><a class=\"frGj1b\" href=\"/search?q=sunny+leone&amp;sca_esv=a691801792404b30&amp;rlz=1C5CHFA_enIN1009IN1009&amp;biw=1164&amp;bih=545&amp;ie=UTF-8&amp;tbm=isch&amp;ei=Q5vbZYnrItONseMPxvGPkAs&amp;start=20&amp;sa=N\">Next &gt;</a></td></tbody></table><br/><div class=\"TuS8Ad\" data-ved=\"0ahUKEwjJmI_voseEAxXTRmwGHcb4A7IQpyoIRQ\"><style>.VYM29{font-weight:bold}</style><div align=\"center\" class=\"HddGcc\"><span class=\"VYM29\">Sector 62, Noida, Uttar Pradesh</span><span> - </span><span>From your IP address</span><span> - </span><a href=\"/url?q=https://support.google.com/websearch%3Fp%3Dws_settings_location%26hl%3Den-IN&amp;opi=89978449&amp;sa=U&amp;ved=0ahUKEwjJmI_voseEAxXTRmwGHcb4A7IQty4IRg&amp;usg=AOvVaw1LG7L9CN1HuVVrQHgs_R-E\">Learn more</a></div><div align=\"center\"><a class=\"rEM8G\" href=\"/url?q=https://accounts.google.com/ServiceLogin%3Fcontinue%3Dhttps://www.google.com/search%253Fsca_esv%253Da691801792404b30%2526rlz%253D1C5CHFA_enIN1009IN1009%2526sxsrf%253DACQVn0-5wxKDDWCTKhsSWtXgneOKulqDlQ:1708888423963%2526q%253Dsunny%252Bleone%2526tbm%253Disch%2526source%253Dlnms%2526sa%253DX%2526ved%253D2ahUKEwiXheK7mceEAxUP6jgGHRXAB9gQ0pQJegQIDRAB%2526biw%253D1164%2526bih%253D545%2526dpr%253D1.1%26hl%3Den&amp;opi=89978449&amp;sa=U&amp;ved=0ahUKEwjJmI_voseEAxXTRmwGHcb4A7IQxs8CCEc&amp;usg=AOvVaw0_EgPGX8dKqoX1kRz_M3bv\">Sign in</a></div><div><table class=\"bookcf\"><tbody class=\"InWNIe\"><tr><td><a class=\"rEM8G\" href=\"https://www.google.com/preferences?hl=en&amp;sa=X&amp;ved=0ahUKEwjJmI_voseEAxXTRmwGHcb4A7IQv5YECEg\">Settings</a></td><td><a class=\"rEM8G\" href=\"https://www.google.com/intl/en_in/policies/privacy/\">Privacy</a></td><td><a class=\"rEM8G\" href=\"https://www.google.com/intl/en_in/policies/terms/\">Terms</a></td></tr></tbody></table></div></div><div> </div></body></html>"
      ]
     },
     "execution_count": 59,
     "metadata": {},
     "output_type": "execute_result"
    }
   ],
   "source": [
    "soup"
   ]
  },
  {
   "cell_type": "code",
   "execution_count": 60,
   "id": "ab9db2ce-f1bd-49c9-9a3c-75151256f5f9",
   "metadata": {},
   "outputs": [],
   "source": [
    "image_tag = soup.find_all('img')"
   ]
  },
  {
   "cell_type": "code",
   "execution_count": 61,
   "id": "9c3bfd3e-d9e0-448e-a7bf-b0db3153380d",
   "metadata": {},
   "outputs": [],
   "source": [
    "del image_tag[0]"
   ]
  },
  {
   "cell_type": "code",
   "execution_count": 62,
   "id": "c1e17c08-e420-42b2-ae1a-5ebf198f11cc",
   "metadata": {},
   "outputs": [
    {
     "data": {
      "text/plain": [
       "[<img alt=\"\" class=\"DS1iW\" src=\"https://encrypted-tbn0.gstatic.com/images?q=tbn:ANd9GcRXO385fXl0OG5_sM9dW2HbmzGo8lgjI-dF_IZ3ESgGMW-PGsb7QTW0Z9fyNFc&amp;s\"/>,\n",
       " <img alt=\"\" class=\"DS1iW\" src=\"https://encrypted-tbn0.gstatic.com/images?q=tbn:ANd9GcSzgYTtt9tjEgMtIdXqHq6naHmi_M9KhQm7PP7rM3eSofe9cWnrCw9lKWU75A&amp;s\"/>,\n",
       " <img alt=\"\" class=\"DS1iW\" src=\"https://encrypted-tbn0.gstatic.com/images?q=tbn:ANd9GcSRpdqNow1VinXsTi33ySd7PwA_0QKrfuOiZ1zqygnQ4OEw8TUMObAhzIWC-xM&amp;s\"/>,\n",
       " <img alt=\"\" class=\"DS1iW\" src=\"https://encrypted-tbn0.gstatic.com/images?q=tbn:ANd9GcRJPM25J7Z7BOHroHmUMlvw8__yo7KSGE-tqBW-_O9Ow5zWVa7SgE75nf2MjQ&amp;s\"/>,\n",
       " <img alt=\"\" class=\"DS1iW\" src=\"https://encrypted-tbn0.gstatic.com/images?q=tbn:ANd9GcRjmDZXugvafzzTTnfd-LIG09OhoSoRdNY-EuhXp1zQKVSXSSTFRfxhhgeFxt4&amp;s\"/>,\n",
       " <img alt=\"\" class=\"DS1iW\" src=\"https://encrypted-tbn0.gstatic.com/images?q=tbn:ANd9GcRkw1SL2PLBqij2Y_LyBvqGN1xoF7u86UkBlxS_68yRjWuAdOR-WaOfns7vqA&amp;s\"/>,\n",
       " <img alt=\"\" class=\"DS1iW\" src=\"https://encrypted-tbn0.gstatic.com/images?q=tbn:ANd9GcSbnM02Jozk5izbdaU0XQ4kke0kvSqp5mIU9Iy1z3r8tZDum10HQYZt8r0TpQ&amp;s\"/>,\n",
       " <img alt=\"\" class=\"DS1iW\" src=\"https://encrypted-tbn0.gstatic.com/images?q=tbn:ANd9GcT16ksOsB7YR_wyaOxC4r5HStVyghDhEhYYbYKZmh4rPYldVWLPbCt_znFaVOU&amp;s\"/>,\n",
       " <img alt=\"\" class=\"DS1iW\" src=\"https://encrypted-tbn0.gstatic.com/images?q=tbn:ANd9GcQbNnFHfh7vrSI_4IRGiT5qQLMr3rH7IPQiuPB297-xoGFhPVH0f3BI_zsH0w&amp;s\"/>,\n",
       " <img alt=\"\" class=\"DS1iW\" src=\"https://encrypted-tbn0.gstatic.com/images?q=tbn:ANd9GcRIs2GSDT8FCpkd7aALQ8hjdoOqou-0jNHOavkSMI2D-88R1tGdgCTWokmQeTo&amp;s\"/>,\n",
       " <img alt=\"\" class=\"DS1iW\" src=\"https://encrypted-tbn0.gstatic.com/images?q=tbn:ANd9GcQexkWapMuYR-68rRa14AgWrKEm69TPVVOtoUfvJkIvBJoLxcKihukh_GO3bw&amp;s\"/>,\n",
       " <img alt=\"\" class=\"DS1iW\" src=\"https://encrypted-tbn0.gstatic.com/images?q=tbn:ANd9GcQATOYQk1Z0vBDYA02bm0_2KnAoLYvdQXkUG9M_9KZ-upMRYbXgFubPzL8-rw&amp;s\"/>,\n",
       " <img alt=\"\" class=\"DS1iW\" src=\"https://encrypted-tbn0.gstatic.com/images?q=tbn:ANd9GcTuGKoBR_TnOsNTccQWiIgvKMLwF7jRzPM4P4xyDKNKoK8xMnreTSwpAx-yzg&amp;s\"/>,\n",
       " <img alt=\"\" class=\"DS1iW\" src=\"https://encrypted-tbn0.gstatic.com/images?q=tbn:ANd9GcQtBpxxwU2hjxSA0b2TL47Um9WDVhpdmw33ooL_1W3uGRjQHskq2jp68ArI-A&amp;s\"/>,\n",
       " <img alt=\"\" class=\"DS1iW\" src=\"https://encrypted-tbn0.gstatic.com/images?q=tbn:ANd9GcQaqLYfFIrejJJ8uQphacPFXom_iR0nQ7tX8fGVmOHmmJZo9xWmeob05qgeEmc&amp;s\"/>,\n",
       " <img alt=\"\" class=\"DS1iW\" src=\"https://encrypted-tbn0.gstatic.com/images?q=tbn:ANd9GcQ4ZwhA-KkA4-R7c9pbM5I3Z0yVEWgVgm1Y49r4L7PF6U85088HrR0a_Xu3Xg&amp;s\"/>,\n",
       " <img alt=\"\" class=\"DS1iW\" src=\"https://encrypted-tbn0.gstatic.com/images?q=tbn:ANd9GcSxpZQ2-hSRfVyCuHZzw2cCcCN56sHQcwhILgizRCTk5Dqsdi_YCsYxDIB5LFE&amp;s\"/>,\n",
       " <img alt=\"\" class=\"DS1iW\" src=\"https://encrypted-tbn0.gstatic.com/images?q=tbn:ANd9GcTVPY77AWeZG980ahIleCsOAtWQzYxZXGaCkIRzk8t_hG-CVx2cOOaq-t81in0&amp;s\"/>,\n",
       " <img alt=\"\" class=\"DS1iW\" src=\"https://encrypted-tbn0.gstatic.com/images?q=tbn:ANd9GcTxmrail63FinTH7uQABvlsGJ1GwK7WaDpSvbK-3Wmg7v0Je2dWDbQZr-dhFg&amp;s\"/>,\n",
       " <img alt=\"\" class=\"DS1iW\" src=\"https://encrypted-tbn0.gstatic.com/images?q=tbn:ANd9GcT8vRNui8JB_Bs00OhPRfVPXtjdiHzjyCHfy0vWN3GyRX4vgTgvLWChgPew4A&amp;s\"/>]"
      ]
     },
     "execution_count": 62,
     "metadata": {},
     "output_type": "execute_result"
    }
   ],
   "source": [
    "image_tag"
   ]
  },
  {
   "cell_type": "code",
   "execution_count": 63,
   "id": "74af7f06-30e2-4a6a-b388-1be409c3c2e6",
   "metadata": {},
   "outputs": [
    {
     "data": {
      "text/plain": [
       "20"
      ]
     },
     "execution_count": 63,
     "metadata": {},
     "output_type": "execute_result"
    }
   ],
   "source": [
    "len(image_tag)"
   ]
  },
  {
   "cell_type": "code",
   "execution_count": 64,
   "id": "b164e98f-3fed-48ea-8a60-805b0a18f7a5",
   "metadata": {},
   "outputs": [
    {
     "data": {
      "text/plain": [
       "b'\\xff\\xd8\\xff\\xe0\\x00\\x10JFIF\\x00\\x01\\x01\\x00\\x00\\x01\\x00\\x01\\x00\\x00\\xff\\xdb\\x00\\x84\\x00\\t\\x06\\x07\\x08\\x07\\x06\\t\\x08\\x07\\x08\\n\\n\\t\\x0b\\r\\x16\\x0f\\r\\x0c\\x0c\\r\\x1b\\x14\\x15\\x10\\x16 \\x1d\"\" \\x1d\\x1f\\x1f$(4,$&1\\'\\x1f\\x1f-=-157:::#+?D?8C49:7\\x01\\n\\n\\n\\r\\x0c\\r\\x1a\\x0f\\x0f\\x1a7%\\x1f%77777777777777777777777777777777777777777777777777\\xff\\xc0\\x00\\x11\\x08\\x00\\x8c\\x00N\\x03\\x01\"\\x00\\x02\\x11\\x01\\x03\\x11\\x01\\xff\\xc4\\x00\\x1c\\x00\\x00\\x01\\x05\\x01\\x01\\x01\\x00\\x00\\x00\\x00\\x00\\x00\\x00\\x00\\x00\\x00\\x07\\x02\\x03\\x04\\x05\\x06\\x01\\x08\\x00\\xff\\xc4\\x00;\\x10\\x00\\x02\\x01\\x03\\x03\\x02\\x03\\x05\\x05\\x06\\x05\\x05\\x00\\x00\\x00\\x00\\x01\\x02\\x03\\x00\\x04\\x11\\x05\\x12!\\x061\\x13AQ\\x07\"aq\\x81\\x142\\x91\\xa1\\xc1S\\x92\\xb1\\xc2\\xd2\\xf0#R\\x82\\xd1\\xe2\\x15$3Bb\\xff\\xc4\\x00\\x19\\x01\\x00\\x03\\x01\\x01\\x01\\x00\\x00\\x00\\x00\\x00\\x00\\x00\\x00\\x00\\x00\\x00\\x01\\x02\\x03\\x04\\x00\\x05\\xff\\xc4\\x00!\\x11\\x00\\x02\\x02\\x03\\x00\\x02\\x02\\x03\\x00\\x00\\x00\\x00\\x00\\x00\\x00\\x00\\x00\\x01\\x02\\x11\\x03!1\\x04\\x12\"Q\\x13Aa\\xff\\xda\\x00\\x0c\\x03\\x01\\x00\\x02\\x11\\x03\\x11\\x00?\\x00\\xc3\\xde\\xf4\\x9a\\xc7c<\\xb6\\xd2\\x19$\\x86M\\xac\\xb4\\xf2tr=\\xe5\\xad\\xb0\\x94\\xee\\x917?\\xc2\\xac4=~\\xd2\\x0e\\xa1\\xbe\\x17-\\xff\\x00i9\\xca\\xb1\\x1cS\\xcf\\xaf\\xd9\\xa4\\x9a\\x85\\xe4r\\x83 \\x1b\"\\x14v%\\xd2L\\xc5\\xf5\\x1e\\x90\\xda6\\xa4\\xd6\\xccr\\xbd\\xd4\\xfa\\xd5Q\\xad\\x7fU^[k\\x1ae\\xa5\\xd4n\\x1a\\xe8p\\xe3\\xce\\xa9,\\xe0\\xb7\\x8a1$\\xe9\\xbd\\xb2{\\xf6\\xe2\\x82\\x95-\\x8d\\x04\\xde\\x99Z\\xb1\\xbb\\x0c\\xaa1\\x1e\\xa1k\\xbe\\x1b\\x84\\xdeQ\\xb6\\xff\\x00\\x9b\\x1cU\\xbc:\\xc1\\x84\\xfb\\x91\\xb3\\xaf .p\\xa2\\x97&\\xb3\\x12\\xb1\\x93\\xc12\\x19\\x06\\n1\\xe1{P\\xf7+\\xf8\\xca>\\xf5\\xca\\xb0\\xbc\\x16\\xd71x\\xf6\\xde\\xe4\\x80fD>|\\x9e\\xdf\\x85W\\x90A\\xc1\\xa7N\\xc1T}]U.p\\xa35\\xccU\\xd7M\\xdb,\\xd2\\xccX\\x03\\x85\\x1d\\xe8\\xa5c%f\\xae\\xf6\\xdbm\\xc4\\x11-\\xac\\x1fb\\xe3\\xfcL\\xf3R\\xd7N\\xd1\\xd3{DQ\\xbf\\xc4\\x19\\x07\\xca\\x87GP\\xbb1\\x84\\xf1\\xe4\\xda;\\x0c\\xd2\\x05\\xdd\\xc0\\xc9\\x138\\xc9\\xc9\\xe6\\xba\\x88Q\\xb7\\xea\\xbbm.+T\\x8e\\xc9F\\xf9\\xd8\\x93\\xb4\\xe3\\x00w\\xfci\\xfe\\x92\\xe8h%\\x84]j\\xea\\xcd$\\x9c\\xc7\\x10\\xec\\xab\\xf1\\xf8\\x9a\\xc7i\\x0f5\\xc5\\xecH\\xce\\xceCn\\ny\\xe6\\x8e\\xbaP\\xd9m\\x16\\x07\\xbc\\x14n\\x15\\x0c\\xaft\\x8dX\"\\xbaV\\xc1\\xd2Z\\'\\n,\\xd4\\x0f\\x86k\\x8f\\xd0\\xfa\\x13\\x92\\r\\xa1?#Z`\\xb9`\\x08\\x19\\xa7\\x06Hm\\xbd\\xc1\\xe2\\xa6\\x9346\\x80\\xff\\x00\\\\t,Zt\\x1fn\\xd1\\x8c\\x81c\\xc7\\x8b\\x13\\x1c\\xf1\\x9e\\xe2\\xb17\\xfb\\xdae\\x92D\\xda]A\\xe0b\\x8f\\xfa\\xbcA\\xed\\xa5\\x8d\\xc6\\xe2\\xcaA_Z\\x04\\xeb\\x0c\\x85\\xd65\\xcf\\xb8\\xcc\\x08>\\\\\\xf6\\xaa\\xe3{!\\x92+\\xa5mO\\xd1\\xefE\\x94\\xae\\xcd\\x9c2\\xe2\\xa0\\xd7*\\xcbD\\xd3\\xa7g\\xd5\\xf5}_Q i:&\\xd8\\xff\\x00\\xd4!\\xbd\\x0e\\x0f\\x877\\x86\\xc9\\x8e@+\\xc3g\\xe7\\xc7\\xd2\\x88\\xd7\\xf7wP \\x8e+\\x87\\xb7\\x85\\xc6|D\\x88\\xc8\\xc4\\xfa\\x00({\\xd0l\\r\\xed\\xd4;\\x8eJ,\\xa1}v\\x13\\xfdTP\\xd3\\'Im\\xbc\\x19_hQ\\xc1\\x1c\\x13\\xf5\\xac\\x99]d\\xd9\\xe9x\\xf0O\\x1d\\xa2\\x9bI\\xd6u)n\\xed\\xe0\\x13\\xcfw\\x14\\xacTI5\\xa1\\x80\\xa9\\x19\\xef\\x9e\\xfd\\x8f\\xa5J\\xd6\\xf5-R\\x0b\\xb9\\xadc\\x9e\\xe6\\x04\\x03q{ks+\\xb0\\xc6x\\xf2\\xfdj\\xc4Km\\x13\"\\xc4\\x13\\xef\\x02ec\\xdb\\x9fRi\\xe9\\xda\\xc2v-,k6\\xdc{\\xea{p<\\xc7\"\\x82\\xa2\\xce\\x0e\\x8a\\xdd\"\\xea\\xea\\xe62&\\x96y\\xa2Q\\x9d\\xd3\\xc4c\\x91~\\x04\\x1a\\x1a\\xf5\\x95\\x8a\\xc3\\x7f=\\xd28\\x02K\\x96Q\\x169\\xc7}\\xdf,\\xe4Q\\x8a\\xfaHc\\xb0T\\xb5\\xda\\xa8\\xc3\\x18#<P\\xaf\\xda\\x0c\\xbe\\x1f\\xd8,w\\x86e\\xf1\\'oP\\x19\\xbd\\xdf\\xe6\\xa6\\xc6\\xfedrEz[1\\xf5\\xca\\xedr\\xb4\\x98\\xceT\\x8b+Y/.\\x16\\x18\\x87\\'\\xb9\\xf4\\xa8\\xf5\\xa0\\xd0\\xc0\\xb7\\xd2\\xee\\xee\\xc7\\xdf\\xc6\\xd1\\xf0\\xa6\\xfe\\x91\\xe2\\xb2v\\x99-\\xb6\\x8b{\\n[\\xc4\\xd2\\xcc\\xec#\\x91\\xf1\\x9c\\x03\\xc1\\xad\\x85\\xbcSH\\xcf$\\x12\\xedURHo?\\x8dP\\xfb:\\x9a\\xde\\xf2+\\xab[\\x95C#r\\xac{\\xe6\\xac\\xd4\\xcbey\\x88g]\\x88\\xe4,\\x83\\xee\\xb8\\x1c\\x1f\\xcf\\xf4\\xac\\xbeL]\\xa6n\\xf1f\\xe3qdiu-\"\\xedR\\xc5\\xbcK\\xbb\\xc5rA\\x8a0\\xec9\\xc1 \\x9e\\xd5*\\xde\\xff\\x00J\\xd2<Kam}\\r\\xc4\\x91\\xe0<\\x90\\x16\\x91\\xd4z\\x95\\xc9\\xfcj\\xcfP\\xb0{\\xbbX\\xae4\\xebkYT.v\\xb2\\x82\\xbfJ\\x91\\xa0\\xd8Mo\\x0b\\xcd<6\\x96\\xa3\\x9fv%\\n\\xa3\\xe2qSUF\\xafo\\xdd\\x90-|y \\x8eyn\\xb7\\xc1\\'(\\n\\xedo\\xaf\\xf7\\xe5Y\\x0e\\xa7\\xd3ou^\\xa1\\x85\\xd9UVx\\xd5#\\x0b\\xd8*\\xfa\\xfckb\\xe6\\x1b\\x8b\\x86\\xd91h\\xd0\\x19\\x18\\x81\\xc0Q\\xe9\\xf4\\xa6-/-a\\x82\\xf6\\x1b\\xc9\\x14\\xde\\xe9\\x92\\xbcG#\\x19\\xe7\\x86\\x1f\\x029\\xaab\\x8d\\'#/\\x93\\x93H\\xc6\\xb7G\\xdc\\xaa\\x96\\xf1F\\xd5}\\x84\\xd4Y:^\\xedu\\x19l\\xf3\\xca.\\xed\\xde\\xb5\\xa2]K\\xc4\\xe9;\\xab\\x8f\\x10x\\xbe9lg\\x9e\\xf5\\xa3\\xb3\\xd4,f\\xd3m\\xef\\xcb\\xa7\\x8d\"\\x84nFj\\xe9\\xd7L\\xb7[`n\\xaf\\xf4\\x19#\\x9bN\\xbc\\xb4\\x91\\xd5\\t]\\xc1\\x98\\xe0UZZ*\\xf3+\\xe4\\xfa-,\\x84Q\\xb5\\x10\\x01VP\\xfb&\\xde\\xa8\\xb1\\xe8\\xc6h\\xba\\xa7M\\x80\\xb0U\\x96\\xea5$\\x9e\\x0f\\xbd\\xc7\\xe7\\x8a\\xdc\\xf4\\xb6\\x96\\xc7\\xa6\\xe7\\xb0\\xbe\\x0f\\x1d\\xe5\\xbd\\xc4\\x82P\\xc7\\x0c\\xaf\\x9c\\x9f\\xa5\\r-\\xee\\x1e\\xc6\\xf6\\x0b\\xc8\\x87\\xbfn\\xeb*\\x8c\\xf7*\\xd9\\xfd(\\xfd\\xd40\\xda\\xdd\\xbd\\xa5\\xee\\x9fr\\x90\\xeaW\\x11)hpO\\x8f\\x1f\\x918\\xcf#\\xc8\\xf9\\xf6\\xf9G4\\x1d*-\\x86i:`\\xe6\\xe4j6L\\xe2\\xd6vE\\xce|0q\\xcf\\xc2\\x99\\x8a}R\\xeae\\x86iHBv\\xec\\x8d\\xfc\\xebY{\\xa1]\\xbc\\xa4\\x98\\xbcE\\xce2\\x87$\\x1f\\x91\\xedR4\\xde\\x9fxX\\xe1\\x06\\xf3\\xce\\xf3\\xc6+6\\xef\\x86\\xbf\\x8d]\\xe8\\x9b\\xa0t\\xfd\\xbc\\x96\\xa7O^\\xf7(D\\xec?\\xf5L`\\xff\\x00\\x1c\\x0f\\x8da}\\xa6\\xbd\\xb5\\x87\\xb4\\x19\\xe40f\\t-\\xe23F\\x87\\x05\\xf8#\\xf1\\xc2\\xaf\\xe1D\\x9e\\x9f\\xd6ml5g\\xd2\\x1a2$\\x99\\xb6x\\xe5\\xb9\\xdd\\x8e\\x01\\xf2\\x19\\xf2\\x03\\xf3\\xefB/iW\\x1fl\\xeb=P\\x8eV9\\x16!\\xfe\\x903\\xf9\\xe6\\xb5\\xe2\\x87\\xd9\\x8b,\\xfd\\x9e\\xb8;j\\xda\\x15\\xd4\\xb2<lQ\\x02\\xe5m\\xe4\\xf7K\\x1f\\xe0O\\xd6\\xa7i\\xda5\\xb6\\xa1\\x14\\x84\\x07\\xb6@\\xfc#yqX\\xa2\\xb8\\xe4v\\xa90_]@\\xbb#\\x9eE_\\xf2\\xe7\\x8aw\\x88\\x9f\\xb6\\xb6D\\'$\\x81\\xe5]\\\\\\ne\\x1f\\x132\\xfa\\x8awi\\xdb\\xbb\\x8c\\xd5\\x00%\\xc6A\\xe3\\xc8\\x8a?\\xe9\\xbd?\\x1d\\xfd\\x8e\\x97yq$\\x84\\xa5\\x9c\\x00moD\\x1fQ\\xf44\\x013H\\xfai\\xc1\\xc1YK`\\x9f,\\x01^\\x84\\xf6m\\xa9\\xc9\\xa8t\\x96\\x9e\\xe6\\x07\\x8c\\xc7\\x12\\xc4|A\\x82\\xfb@\\x1b\\x87\\xc0\\xf9RI\\x85\\x17v\\xdab.\\xe3\\x0c\\xae\\xab\\xdf\\x1b\\x01?,\\xd4\\xb3e\\x04^\\xfbnb;)\\xc7\\'\\xe5RS;\\xc1 \\x02}\\ru\\x86\\x06N3S\\r\\x94\\xd7\\xba]\\xa5\\xce..c\\xc4\\xf1\\xe5\\x95\\xd3\\x82\\xbf\\xde\\x05y\\xd3W\\x9b\\xedZ\\xc5\\xfd\\xc6r%\\xb9\\x96L\\x93\\xdc\\x17&\\xbd\\x07\\xd6z\\x84\\x9aoM\\xea7V\\xe0x\\xc9n\\xec\\x85\\x87\\x00\\x81\\xe9\\xe7^n\\x84\\xac\\xb1K\\x97\\x01\\xc1\\xec\\xdcq\\xe61\\x9c\\xe7\\xfd\\xaa\\x90t\\x06-\\x9dq\\xdf?\\x01\\xcd%\\xd8\\x01IW\\\\\\xfc\\xfe\\x15\\xc9W>\\xf7\\xd2\\xaa)\\x14\\x92$V\\xf8\\xd4\\x97|\\xfb\\xa0\\xfe\\x15\\x14\\x82\\xed\\xc5;\\x0f\\xbcA>T\\x88\"\\xd9\\x17\\x81\\x80ps\\xf5\\xafA{,\\x98\\xdctN\\x9e\\xed\\xdd|H\\xfe\\x8b#\\x01\\xf9\\n\\xf3\\xff\\x00\\xad\\x1c}\\x8cO\\xe2\\xf4\\x93E\\xfb\\x1b\\xa7_\\xc4\\x06\\xfej\\x12\\xe1\\xc8 D\\xb8\\x90\\x1f\\x85*s\\x8d\\xbe\\x9c\\xd2b8$\\x9f!\\\\\\x99\\xb2P\\x8e\\xd85!\\x8cO\\xb5\\x8b\\x86\\x83\\xa3\\xef0q\\xbc\\xa4\\x7fB\\xe2\\x81\\n2h\\xcd\\xed\\xb2\\xe3\\xc3\\xe9\\xcbH\\x7fmt\\xa0\\xfc\\x82\\xb1\\xfe Pe\\x0e\\x085hpV|\\xe3\\xdc<r;S\\x17\\x191.\\x0fc\\x8a\\x92\\xec\\xa5\\x86\\x0f\\x97?:\\x8cN\\x0e\\r;\\xe0\\x04D\\x0fzuWa\\xed\\x8c\\xd3\\x10L\\xaa\\xc3v1OK2`0l\\xe2\\x915A\\x14M\\x16\\xbd\\x87\\xdc\\xe6\\xcfT\\xb5-\\xb7l\\xa9/\\xef\\x02?\\x94P\\x8b\\xc4B84E\\xf6)t\\x8b\\xae\\xdf[pL\\x96\\xe1\\xc7\\xfa[\\xfeTe\\xc3\\x90j\\x84\\xed\\x94\\xfb\\xc4\\xe5iW\\x04\\xe5~\\xb4\\xdcD\\x19\\t\\x1f*U\\xc1%\\x94\\x0fN\\xf5 \\x82/n\\x97ef\\xd1\\xad\\x81\\xca\\xe2Wa\\xfb\\x80~\\xb4-\\xde\\xbbs[\\xbfmWbn\\xa8\\xb6\\xb7_\\xbb\\x05\\xa8?Vc\\xfd\"\\x87\\xc6\\x9d\\x1c?\\x1b.s\\xfaW^-\\xc7q g\\xb57\\x19\\xda\\x0f#\\xebHy\\xf9\\xe1\\xf1\\xf2\\xa6\\xf6U\\xb0Q\\r8a\\xf1\\xa7\\xc8\\xca\\x9a\\x8c\\x9fxT\\x95\\xedPC\\x1d\\x84\\xe5q\\xe6+a\\xec\\xbe\\xe7\\xec\\xbdo`;\\t\\x96H\\x8f\\xd5I\\xfeZ\\xc6\\xdb\\xff\\x00\\xe7\\x03\\xc8\\xd5\\xde\\x83+[u6\\x95$\\\\0\\xba\\x8c~,\\x14\\xfeD\\xd5#\\xb8\\x80\\xf4\\xcc|\\xa9\\xc1#\\xb74\\xb9H\\xf7G\\xff\\x004\\xdc\\x1fw\\x1f\\x01H\\xb9\\'\\r\\xf0\\x14\\xa7\\x00\\x0fjw+s\\xd6\\xb7[\\x07\\x11F\\x91\\xfc\\xc8\\xc9\\xfdk#!\\xc0\\xab\\xbe\\xb4b\\xfd]\\xaa\\x96\\xfd\\xb7\\xe8*\\x8d\\xfe\\xf5\\x17\\xc0\\x89\\xa6\\xdb\\xbd9M?zFq\\xff\\xd9'"
      ]
     },
     "execution_count": 64,
     "metadata": {},
     "output_type": "execute_result"
    }
   ],
   "source": [
    "requests.get(\"https://encrypted-tbn0.gstatic.com/images?q=tbn:ANd9GcQpW557bpiu1cONr5nxu042mw7D6ZjF3ndd2-RtBgU7Lvs8BqmeN1uuV8sHrBU&amp;s\").content"
   ]
  },
  {
   "cell_type": "code",
   "execution_count": 65,
   "id": "8a7118dc-f652-4f21-a9d5-b760d667bbb6",
   "metadata": {},
   "outputs": [],
   "source": [
    "for i in image_tag:\n",
    "    image_url =i['src']\n",
    "    image_data = requests.get(image_url).content\n",
    "    with open(os.path.join(save_dir,f\"{query}_{image_tag.index(i)}.jpg\"),\"wb\") as f:\n",
    "        f.write(image_data)"
   ]
  },
  {
   "cell_type": "code",
   "execution_count": null,
   "id": "f244145c-ee13-46a9-8fe5-a2781963031b",
   "metadata": {},
   "outputs": [],
   "source": []
  },
  {
   "cell_type": "code",
   "execution_count": null,
   "id": "9bf7ede7-1bda-4918-b0a2-ce2ae0705ce4",
   "metadata": {},
   "outputs": [],
   "source": []
  }
 ],
 "metadata": {
  "kernelspec": {
   "display_name": "Python 3 (ipykernel)",
   "language": "python",
   "name": "python3"
  },
  "language_info": {
   "codemirror_mode": {
    "name": "ipython",
    "version": 3
   },
   "file_extension": ".py",
   "mimetype": "text/x-python",
   "name": "python",
   "nbconvert_exporter": "python",
   "pygments_lexer": "ipython3",
   "version": "3.11.0"
  }
 },
 "nbformat": 4,
 "nbformat_minor": 5
}
